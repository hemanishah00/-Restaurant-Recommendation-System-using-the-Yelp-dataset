{
 "cells": [
  {
   "cell_type": "code",
   "execution_count": 1,
   "id": "44cfa971",
   "metadata": {
    "_cell_guid": "b1076dfc-b9ad-4769-8c92-a6c4dae69d19",
    "_uuid": "8f2839f25d086af736a60e9eeb907d3b93b6e0e5",
    "execution": {
     "iopub.execute_input": "2022-02-14T11:16:06.202394Z",
     "iopub.status.busy": "2022-02-14T11:16:06.201489Z",
     "iopub.status.idle": "2022-02-14T11:16:06.204449Z",
     "shell.execute_reply": "2022-02-14T11:16:06.203765Z",
     "shell.execute_reply.started": "2022-02-14T11:10:00.083484Z"
    },
    "papermill": {
     "duration": 0.03038,
     "end_time": "2022-02-14T11:16:06.204663",
     "exception": false,
     "start_time": "2022-02-14T11:16:06.174283",
     "status": "completed"
    },
    "tags": []
   },
   "outputs": [],
   "source": [
    "import numpy as np\n",
    "import pandas as pd \n",
    "import sqlite3\n",
    "import matplotlib.pyplot as plt\n",
    "%matplotlib inline\n",
    "from datetime import datetime\n",
    "from datetime import date\n",
    "from datetime import time\n",
    "import gc"
   ]
  },
  {
   "cell_type": "code",
   "execution_count": 2,
   "id": "00507d3a",
   "metadata": {
    "execution": {
     "iopub.execute_input": "2022-02-14T11:16:06.234561Z",
     "iopub.status.busy": "2022-02-14T11:16:06.233795Z",
     "iopub.status.idle": "2022-02-14T11:16:06.235751Z",
     "shell.execute_reply": "2022-02-14T11:16:06.236279Z",
     "shell.execute_reply.started": "2022-02-14T11:10:00.112088Z"
    },
    "papermill": {
     "duration": 0.019987,
     "end_time": "2022-02-14T11:16:06.236482",
     "exception": false,
     "start_time": "2022-02-14T11:16:06.216495",
     "status": "completed"
    },
    "tags": []
   },
   "outputs": [],
   "source": [
    "user_cols=['user_id', 'name', 'review_count', 'yelping_since', 'useful', 'funny',\n",
    "       'cool', 'elite', 'friends', 'fans', 'average_stars', 'compliment_hot',\n",
    "       'compliment_more', 'compliment_profile', 'compliment_cute',\n",
    "       'compliment_list', 'compliment_note', 'compliment_plain',\n",
    "       'compliment_cool', 'compliment_funny', 'compliment_writer',\n",
    "       'compliment_photos']"
   ]
  },
  {
   "cell_type": "code",
   "execution_count": 3,
   "id": "6cc3233a",
   "metadata": {
    "execution": {
     "iopub.execute_input": "2022-02-14T11:16:06.270263Z",
     "iopub.status.busy": "2022-02-14T11:16:06.263915Z",
     "iopub.status.idle": "2022-02-14T11:16:06.284513Z",
     "shell.execute_reply": "2022-02-14T11:16:06.285133Z",
     "shell.execute_reply.started": "2022-02-14T11:10:00.117009Z"
    },
    "papermill": {
     "duration": 0.036936,
     "end_time": "2022-02-14T11:16:06.285440",
     "exception": false,
     "start_time": "2022-02-14T11:16:06.248504",
     "status": "completed"
    },
    "tags": []
   },
   "outputs": [],
   "source": [
    "#Function to convert query(which comes in as a list of tuples to DataFrame)\n",
    "def toDf(res,cols):\n",
    "    try:\n",
    "        return pd.DataFrame(res,columns=cols)\n",
    "    except Exception as e:\n",
    "        print(f'The DataFrame cannot be created because of this error: {e}')\n",
    "def connect(path):\n",
    "    con=sqlite3.connect(path)\n",
    "    return con\n",
    "\n",
    "\n",
    "def createQuery(query,connection):\n",
    "    try:\n",
    "        connection.cursor().execute(query)\n",
    "        print('Table Created')\n",
    "    except Exception as e:\n",
    "        print('Exception',e)\n",
    "\n",
    "#Function to perform get queries\n",
    "def getQuery(query,connection,cols):\n",
    "    try:\n",
    "        result=connection.cursor().execute(query)\n",
    "        print('Query Executed')\n",
    "        return toDf(result.fetchall(),cols)\n",
    "    except Exception as e:\n",
    "        print('Exception',e)\n",
    "\n",
    "con = connect('../input/ds1-project/database.db')"
   ]
  },
  {
   "cell_type": "code",
   "execution_count": 4,
   "id": "05289846",
   "metadata": {
    "execution": {
     "iopub.execute_input": "2022-02-14T11:16:06.310459Z",
     "iopub.status.busy": "2022-02-14T11:16:06.309615Z",
     "iopub.status.idle": "2022-02-14T11:17:29.052366Z",
     "shell.execute_reply": "2022-02-14T11:17:29.051647Z",
     "shell.execute_reply.started": "2022-02-14T11:10:00.141755Z"
    },
    "papermill": {
     "duration": 82.756292,
     "end_time": "2022-02-14T11:17:29.052566",
     "exception": false,
     "start_time": "2022-02-14T11:16:06.296274",
     "status": "completed"
    },
    "tags": []
   },
   "outputs": [
    {
     "name": "stdout",
     "output_type": "stream",
     "text": [
      "Query Executed\n"
     ]
    }
   ],
   "source": [
    "user_df=getQuery('Select * from user',con,user_cols)"
   ]
  },
  {
   "cell_type": "code",
   "execution_count": 5,
   "id": "d909db29",
   "metadata": {
    "execution": {
     "iopub.execute_input": "2022-02-14T11:17:29.092106Z",
     "iopub.status.busy": "2022-02-14T11:17:29.091315Z",
     "iopub.status.idle": "2022-02-14T11:18:10.496071Z",
     "shell.execute_reply": "2022-02-14T11:18:10.495398Z",
     "shell.execute_reply.started": "2022-02-14T11:11:13.38898Z"
    },
    "papermill": {
     "duration": 41.431673,
     "end_time": "2022-02-14T11:18:10.496231",
     "exception": false,
     "start_time": "2022-02-14T11:17:29.064558",
     "status": "completed"
    },
    "tags": []
   },
   "outputs": [],
   "source": [
    "user_df.drop('elite',axis=1,inplace=True)\n",
    "user_df['aggregate comp']=user_df[[x for x in user_df.columns if 'compliment' in x]].sum(axis=1)\n",
    "user_df['yelping_since'] = pd.to_datetime(user_df['yelping_since'])\n",
    "user_df.friends.apply(lambda x:x.split(','))\n",
    "\n",
    "user_df.drop([x for x in user_df.columns if 'compliment' in x],axis=1,inplace=True)\n",
    "user_df['review useful']=user_df[['useful','funny','cool']].sum(axis=1)\n",
    "user_df.drop(['useful', 'funny','cool'],axis=1,inplace=True)"
   ]
  },
  {
   "cell_type": "code",
   "execution_count": 6,
   "id": "37954665",
   "metadata": {
    "execution": {
     "iopub.execute_input": "2022-02-14T11:18:10.531061Z",
     "iopub.status.busy": "2022-02-14T11:18:10.530311Z",
     "iopub.status.idle": "2022-02-14T11:18:10.562764Z",
     "shell.execute_reply": "2022-02-14T11:18:10.563289Z",
     "shell.execute_reply.started": "2022-02-14T11:11:51.688745Z"
    },
    "papermill": {
     "duration": 0.054752,
     "end_time": "2022-02-14T11:18:10.563487",
     "exception": false,
     "start_time": "2022-02-14T11:18:10.508735",
     "status": "completed"
    },
    "tags": []
   },
   "outputs": [
    {
     "data": {
      "text/html": [
       "<div>\n",
       "<style scoped>\n",
       "    .dataframe tbody tr th:only-of-type {\n",
       "        vertical-align: middle;\n",
       "    }\n",
       "\n",
       "    .dataframe tbody tr th {\n",
       "        vertical-align: top;\n",
       "    }\n",
       "\n",
       "    .dataframe thead th {\n",
       "        text-align: right;\n",
       "    }\n",
       "</style>\n",
       "<table border=\"1\" class=\"dataframe\">\n",
       "  <thead>\n",
       "    <tr style=\"text-align: right;\">\n",
       "      <th></th>\n",
       "      <th>user_id</th>\n",
       "      <th>name</th>\n",
       "      <th>review_count</th>\n",
       "      <th>yelping_since</th>\n",
       "      <th>friends</th>\n",
       "      <th>fans</th>\n",
       "      <th>average_stars</th>\n",
       "      <th>aggregate comp</th>\n",
       "      <th>review useful</th>\n",
       "    </tr>\n",
       "  </thead>\n",
       "  <tbody>\n",
       "    <tr>\n",
       "      <th>0</th>\n",
       "      <td>q_QQ5kBBwlCcbL1s4NVK3g</td>\n",
       "      <td>Jane</td>\n",
       "      <td>1220</td>\n",
       "      <td>2005-03-14 20:26:35</td>\n",
       "      <td>xBDpTUbai0DXrvxCe3X16Q, 7GPNBO496aecrjJfW6UWtg...</td>\n",
       "      <td>1357</td>\n",
       "      <td>3.85</td>\n",
       "      <td>15694</td>\n",
       "      <td>36359</td>\n",
       "    </tr>\n",
       "    <tr>\n",
       "      <th>1</th>\n",
       "      <td>dIIKEfOgo0KqUfGQvGikPg</td>\n",
       "      <td>Gabi</td>\n",
       "      <td>2136</td>\n",
       "      <td>2007-08-10 19:01:51</td>\n",
       "      <td>XPzYf9_mwG2eXYP2BAGSTA, 2LooM5dcIk2o01nftYdPIg...</td>\n",
       "      <td>1025</td>\n",
       "      <td>4.09</td>\n",
       "      <td>11797</td>\n",
       "      <td>49607</td>\n",
       "    </tr>\n",
       "    <tr>\n",
       "      <th>2</th>\n",
       "      <td>D6ErcUnFALnCQN4b1W_TlA</td>\n",
       "      <td>Jason</td>\n",
       "      <td>119</td>\n",
       "      <td>2007-02-07 15:47:53</td>\n",
       "      <td>GfB6sC4NJQvSI2ewbQrDNA, jhZtzZNNZJOU2YSZ6jPlXQ...</td>\n",
       "      <td>16</td>\n",
       "      <td>3.76</td>\n",
       "      <td>117</td>\n",
       "      <td>446</td>\n",
       "    </tr>\n",
       "    <tr>\n",
       "      <th>3</th>\n",
       "      <td>JnPIjvC0cmooNDfsa9BmXg</td>\n",
       "      <td>Kat</td>\n",
       "      <td>987</td>\n",
       "      <td>2009-02-09 16:14:29</td>\n",
       "      <td>HQZPQhKMwRAyS6BCselVWQ, kP2U1s_sjQfHO9grxiyDTA...</td>\n",
       "      <td>420</td>\n",
       "      <td>3.77</td>\n",
       "      <td>11190</td>\n",
       "      <td>15991</td>\n",
       "    </tr>\n",
       "    <tr>\n",
       "      <th>4</th>\n",
       "      <td>37Hc8hr3cw0iHLoPzLK6Ow</td>\n",
       "      <td>Christine</td>\n",
       "      <td>495</td>\n",
       "      <td>2008-03-03 04:57:05</td>\n",
       "      <td>-Q88pZUcrfN0BLBDp-bkAQ, etPn4Pv1Gc4cRZjRgB_BOw...</td>\n",
       "      <td>47</td>\n",
       "      <td>3.72</td>\n",
       "      <td>1300</td>\n",
       "      <td>3428</td>\n",
       "    </tr>\n",
       "    <tr>\n",
       "      <th>...</th>\n",
       "      <td>...</td>\n",
       "      <td>...</td>\n",
       "      <td>...</td>\n",
       "      <td>...</td>\n",
       "      <td>...</td>\n",
       "      <td>...</td>\n",
       "      <td>...</td>\n",
       "      <td>...</td>\n",
       "      <td>...</td>\n",
       "    </tr>\n",
       "    <tr>\n",
       "      <th>2189452</th>\n",
       "      <td>OrXXOTSQG2hLEoZ4sw03Gg</td>\n",
       "      <td>Matthew</td>\n",
       "      <td>1</td>\n",
       "      <td>2018-08-25 23:07:58</td>\n",
       "      <td>None</td>\n",
       "      <td>0</td>\n",
       "      <td>1.00</td>\n",
       "      <td>0</td>\n",
       "      <td>1</td>\n",
       "    </tr>\n",
       "    <tr>\n",
       "      <th>2189453</th>\n",
       "      <td>pYZ4Dyx5I92u5gDfGiVTpQ</td>\n",
       "      <td>Jeff</td>\n",
       "      <td>3</td>\n",
       "      <td>2013-08-17 23:58:29</td>\n",
       "      <td>None</td>\n",
       "      <td>0</td>\n",
       "      <td>4.33</td>\n",
       "      <td>0</td>\n",
       "      <td>0</td>\n",
       "    </tr>\n",
       "    <tr>\n",
       "      <th>2189454</th>\n",
       "      <td>DhrXTJRTLhnvI9UI1q63mg</td>\n",
       "      <td>Emily</td>\n",
       "      <td>10</td>\n",
       "      <td>2012-10-14 23:35:51</td>\n",
       "      <td>None</td>\n",
       "      <td>0</td>\n",
       "      <td>4.20</td>\n",
       "      <td>1</td>\n",
       "      <td>5</td>\n",
       "    </tr>\n",
       "    <tr>\n",
       "      <th>2189455</th>\n",
       "      <td>ka06dBaC9tvKhc7DJ9_7wQ</td>\n",
       "      <td>Duamel</td>\n",
       "      <td>9</td>\n",
       "      <td>2016-03-24 11:54:52</td>\n",
       "      <td>None</td>\n",
       "      <td>0</td>\n",
       "      <td>3.89</td>\n",
       "      <td>0</td>\n",
       "      <td>6</td>\n",
       "    </tr>\n",
       "    <tr>\n",
       "      <th>2189456</th>\n",
       "      <td>QfkFTrJ_MdM3Onk6przUJw</td>\n",
       "      <td>Amanda</td>\n",
       "      <td>2</td>\n",
       "      <td>2011-09-15 16:55:59</td>\n",
       "      <td>None</td>\n",
       "      <td>0</td>\n",
       "      <td>5.00</td>\n",
       "      <td>0</td>\n",
       "      <td>0</td>\n",
       "    </tr>\n",
       "  </tbody>\n",
       "</table>\n",
       "<p>2189457 rows × 9 columns</p>\n",
       "</div>"
      ],
      "text/plain": [
       "                        user_id       name  review_count       yelping_since  \\\n",
       "0        q_QQ5kBBwlCcbL1s4NVK3g       Jane          1220 2005-03-14 20:26:35   \n",
       "1        dIIKEfOgo0KqUfGQvGikPg       Gabi          2136 2007-08-10 19:01:51   \n",
       "2        D6ErcUnFALnCQN4b1W_TlA      Jason           119 2007-02-07 15:47:53   \n",
       "3        JnPIjvC0cmooNDfsa9BmXg        Kat           987 2009-02-09 16:14:29   \n",
       "4        37Hc8hr3cw0iHLoPzLK6Ow  Christine           495 2008-03-03 04:57:05   \n",
       "...                         ...        ...           ...                 ...   \n",
       "2189452  OrXXOTSQG2hLEoZ4sw03Gg    Matthew             1 2018-08-25 23:07:58   \n",
       "2189453  pYZ4Dyx5I92u5gDfGiVTpQ       Jeff             3 2013-08-17 23:58:29   \n",
       "2189454  DhrXTJRTLhnvI9UI1q63mg      Emily            10 2012-10-14 23:35:51   \n",
       "2189455  ka06dBaC9tvKhc7DJ9_7wQ     Duamel             9 2016-03-24 11:54:52   \n",
       "2189456  QfkFTrJ_MdM3Onk6przUJw     Amanda             2 2011-09-15 16:55:59   \n",
       "\n",
       "                                                   friends  fans  \\\n",
       "0        xBDpTUbai0DXrvxCe3X16Q, 7GPNBO496aecrjJfW6UWtg...  1357   \n",
       "1        XPzYf9_mwG2eXYP2BAGSTA, 2LooM5dcIk2o01nftYdPIg...  1025   \n",
       "2        GfB6sC4NJQvSI2ewbQrDNA, jhZtzZNNZJOU2YSZ6jPlXQ...    16   \n",
       "3        HQZPQhKMwRAyS6BCselVWQ, kP2U1s_sjQfHO9grxiyDTA...   420   \n",
       "4        -Q88pZUcrfN0BLBDp-bkAQ, etPn4Pv1Gc4cRZjRgB_BOw...    47   \n",
       "...                                                    ...   ...   \n",
       "2189452                                               None     0   \n",
       "2189453                                               None     0   \n",
       "2189454                                               None     0   \n",
       "2189455                                               None     0   \n",
       "2189456                                               None     0   \n",
       "\n",
       "         average_stars  aggregate comp  review useful  \n",
       "0                 3.85           15694          36359  \n",
       "1                 4.09           11797          49607  \n",
       "2                 3.76             117            446  \n",
       "3                 3.77           11190          15991  \n",
       "4                 3.72            1300           3428  \n",
       "...                ...             ...            ...  \n",
       "2189452           1.00               0              1  \n",
       "2189453           4.33               0              0  \n",
       "2189454           4.20               1              5  \n",
       "2189455           3.89               0              6  \n",
       "2189456           5.00               0              0  \n",
       "\n",
       "[2189457 rows x 9 columns]"
      ]
     },
     "execution_count": 6,
     "metadata": {},
     "output_type": "execute_result"
    }
   ],
   "source": [
    "user_df"
   ]
  },
  {
   "cell_type": "code",
   "execution_count": 7,
   "id": "06f80fd0",
   "metadata": {
    "execution": {
     "iopub.execute_input": "2022-02-14T11:18:10.593499Z",
     "iopub.status.busy": "2022-02-14T11:18:10.592736Z",
     "iopub.status.idle": "2022-02-14T11:20:21.417458Z",
     "shell.execute_reply": "2022-02-14T11:20:21.418091Z",
     "shell.execute_reply.started": "2022-02-14T11:11:51.722774Z"
    },
    "papermill": {
     "duration": 130.843216,
     "end_time": "2022-02-14T11:20:21.418349",
     "exception": false,
     "start_time": "2022-02-14T11:18:10.575133",
     "status": "completed"
    },
    "tags": []
   },
   "outputs": [],
   "source": [
    "user_df.to_csv('user_df')"
   ]
  },
  {
   "cell_type": "code",
   "execution_count": null,
   "id": "f4e6b420",
   "metadata": {
    "papermill": {
     "duration": 0.012076,
     "end_time": "2022-02-14T11:20:21.442878",
     "exception": false,
     "start_time": "2022-02-14T11:20:21.430802",
     "status": "completed"
    },
    "tags": []
   },
   "outputs": [],
   "source": []
  },
  {
   "cell_type": "code",
   "execution_count": null,
   "id": "ab7be797",
   "metadata": {
    "papermill": {
     "duration": 0.011937,
     "end_time": "2022-02-14T11:20:21.467795",
     "exception": false,
     "start_time": "2022-02-14T11:20:21.455858",
     "status": "completed"
    },
    "tags": []
   },
   "outputs": [],
   "source": []
  }
 ],
 "metadata": {
  "kernelspec": {
   "display_name": "Python 3",
   "language": "python",
   "name": "python3"
  },
  "language_info": {
   "codemirror_mode": {
    "name": "ipython",
    "version": 3
   },
   "file_extension": ".py",
   "mimetype": "text/x-python",
   "name": "python",
   "nbconvert_exporter": "python",
   "pygments_lexer": "ipython3",
   "version": "3.7.12"
  },
  "papermill": {
   "default_parameters": {},
   "duration": 269.489052,
   "end_time": "2022-02-14T11:20:23.298540",
   "environment_variables": {},
   "exception": null,
   "input_path": "__notebook__.ipynb",
   "output_path": "__notebook__.ipynb",
   "parameters": {},
   "start_time": "2022-02-14T11:15:53.809488",
   "version": "2.3.3"
  }
 },
 "nbformat": 4,
 "nbformat_minor": 5
}
